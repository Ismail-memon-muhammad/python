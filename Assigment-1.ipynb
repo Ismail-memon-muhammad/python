{
 "cells": [
  {
   "cell_type": "code",
   "execution_count": 3,
   "id": "cfc1ebde",
   "metadata": {},
   "outputs": [
    {
     "name": "stdout",
     "output_type": "stream",
     "text": [
      "Twinkle,twinkle,little star,\n",
      "         How I wonder What you are!\n",
      "         up above the world so high\n",
      "like a daimond in the sky\n",
      "Twinkle,twinkle,little star,\n",
      "         How I wonder What you are! \n"
     ]
    }
   ],
   "source": [
    " print(\"Twinkle,twinkle,little star,\\n         How I wonder What you are!\\n         up above the world so high\\nlike a daimond in the sky\\nTwinkle,twinkle,little star,\\n         How I wonder What you are! \");"
   ]
  },
  {
   "cell_type": "code",
   "execution_count": 4,
   "id": "0707704d",
   "metadata": {},
   "outputs": [
    {
     "name": "stdout",
     "output_type": "stream",
     "text": [
      "3.9.7 (default, Sep 16 2021, 16:59:28) [MSC v.1916 64 bit (AMD64)]\n"
     ]
    }
   ],
   "source": [
    "import sys\n",
    "version = sys.version\n",
    "print(version)"
   ]
  },
  {
   "cell_type": "code",
   "execution_count": 5,
   "id": "7a4598dd",
   "metadata": {},
   "outputs": [
    {
     "name": "stdout",
     "output_type": "stream",
     "text": [
      "2022-01-01 21:37:24.723633\n"
     ]
    }
   ],
   "source": [
    "from datetime import datetime\n",
    "now = datetime.now()\n",
    "print(now)"
   ]
  },
  {
   "cell_type": "code",
   "execution_count": 8,
   "id": "da613077",
   "metadata": {},
   "outputs": [
    {
     "name": "stdout",
     "output_type": "stream",
     "text": [
      "Entert The radius8\n",
      "201.088\n"
     ]
    }
   ],
   "source": [
    "Radius = input(\"Entert The radius\");\n",
    "convertRadius = int(Radius)\n",
    "Pie = 3.142;\n",
    "area_of_circle = Pie*(convertRadius * convertRadius);\n",
    "print(area_of_circle)"
   ]
  },
  {
   "cell_type": "code",
   "execution_count": 9,
   "id": "16816642",
   "metadata": {},
   "outputs": [
    {
     "name": "stdout",
     "output_type": "stream",
     "text": [
      "Enter the Number one65\n",
      "Enter the Number two98\n",
      "163\n"
     ]
    }
   ],
   "source": [
    "val1  = input(\"Enter the Number one\")\n",
    "convertval1 = int(val1)\n",
    "val2  = input(\"Enter the Number two\")\n",
    "convertval2 = int(val2)\n",
    "\n",
    "print(convertval1 + convertval2)\n"
   ]
  },
  {
   "cell_type": "code",
   "execution_count": 13,
   "id": "64e27756",
   "metadata": {},
   "outputs": [
    {
     "name": "stdout",
     "output_type": "stream",
     "text": [
      "Enter First NameIsmail\n",
      "Enter Last NameMemon\n",
      "liamsI nomeM\n"
     ]
    }
   ],
   "source": [
    "fName = input(\"Enter First Name\")\n",
    "lName = input(\"Enter Last Name\")\n",
    "txt = fName[::-1] + \" \" +lName[::-1];\n",
    "print(txt)"
   ]
  },
  {
   "cell_type": "code",
   "execution_count": null,
   "id": "e1687c3f",
   "metadata": {},
   "outputs": [],
   "source": []
  },
  {
   "cell_type": "code",
   "execution_count": null,
   "id": "2eba63d8",
   "metadata": {},
   "outputs": [],
   "source": []
  }
 ],
 "metadata": {
  "kernelspec": {
   "display_name": "Python 3 (ipykernel)",
   "language": "python",
   "name": "python3"
  },
  "language_info": {
   "codemirror_mode": {
    "name": "ipython",
    "version": 3
   },
   "file_extension": ".py",
   "mimetype": "text/x-python",
   "name": "python",
   "nbconvert_exporter": "python",
   "pygments_lexer": "ipython3",
   "version": "3.9.7"
  }
 },
 "nbformat": 4,
 "nbformat_minor": 5
}
